{
 "cells": [
  {
   "cell_type": "markdown",
   "metadata": {},
   "source": [
    "---\n",
    "# Hands-on session\n",
    "# Solving a logistics distribution problem using mixed-integer programming and matheuristics (June, 2018)\n",
    "\n",
    "Pedro Castellucci, The University of Sao Paulo and University of Melbourne\n",
    "\n",
    "Alysson Costa, The University of Melbourne\n",
    "\n",
    "---\n",
    "\n",
    "This Notebook will guide us through an example of using matheuristics to solve a particular Mixed Integer Linear Programming model. We begin by implementing the model and then we explore some ideas related to [Local Branching](https://link.springer.com/article/10.1007/s10107-003-0395-5) and [Proximity Search](https://link.springer.com/article/10.1007/s10732-014-9266-x). Although we are focusing on a particular example, note that the ideas are generic enough to be applied to any optimisation problem defined as $Min\\{c^T x: Ax \\leq b, x \\in \\{0, 1\\}^n\\}$.\n",
    "\n",
    "\n",
    "Without going into much detail about the model, it has the following input parameters:\n",
    "\n",
    "- $C$: a set of consumers.\n",
    "- $S$: a set of suppliers.\n",
    "- $w$: a collaborative distribution centre (cross-dock).\n",
    "- $N = S \\cup C \\cup \\{w\\}$: set of nodes in the network.\n",
    "- $T$: a set of time periods.\n",
    "- $d_{is}$: 1 if consumer $i$ has demand from supplier $s$, 0 otherwise.\n",
    "- $c_{ij}$: cost of going from node $i$ to node $j$.\n",
    "\n",
    "Also, the following binary variables were defined:\n",
    "\n",
    "- $x_{ijst}$: indicates whether the truck from supplier $s$ goes from $i$ to $j$ at time period $t$.\n",
    "- $y_{is}$: indicates whether consumer $i$ is visited by supplier $s$.\n",
    "- $z_{iss'}$: indicates whether the demand of consumer $i$ from supplier $s$ is satisfied by the truck from supplier $s'$.\n",
    "\n",
    "Thereby, we can define the following model for minimising the total distribution costs.\n",
    "\n",
    "$\\displaystyle \\min \\sum_{i \\in N} \\sum_{j \\in N} \\sum_{s \\in S} \\sum_{t \\in T} c_{ij} x_{ijst}$\n",
    "\n",
    "Subject to:\n",
    "\n",
    "(We cannot leave any suppliers if  $t \\neq 1$)\n",
    "\n",
    "$\\displaystyle\n",
    "x_{sjst} = 0, \\quad  j \\in N, s \\in S, t \\in T, t \\neq 1,$\n",
    "\n",
    "(We cannot leave nodes that are not suppliers at $t = 1$)\n",
    "\n",
    "$\\displaystyle\n",
    "x_{ijs1} = 0, \\quad  i \\in N \\backslash \\{s\\}, j \\in N, s \\in S,$\n",
    "\n",
    "(If we reach a consumer or the cross-dock at time period $t$, we leave it at $t+1$)\n",
    "\n",
    "$\\displaystyle\n",
    "\\sum_{i \\in N} x_{ijst} = \\sum_{i \\in N} x_{jis,t+1}, \\quad j \\in C \\cup \\{w\\}, s \\in S, t \\in T,$\n",
    "\n",
    "(Each supplier visits a consumer at most once)\n",
    "\n",
    "$\\displaystyle\n",
    "\\sum_{i \\in N} \\sum_{t \\in T} x_{ijst} \\leq 1, \\quad j \\in N, s \\in S,$\n",
    "\n",
    "(The demand must be served by one of the suppliers)\n",
    "\n",
    "$\\displaystyle \n",
    "\\sum_{j \\in N} \\sum_{t \\in T} x_{jist} \\geq d_{is} - \\sum_{s' \\in S, s' \\neq s} z_{iss'}, \\quad i \\in C, s \\in S,$\n",
    "\n",
    "(A supplier $s'$ may respond to a demand for supplier $s \\neq s'$ if the trucks from $s$ and $s'$ visit the cross-dock and $s'$ visits the consumer after visiting the cross-dock)\n",
    "\n",
    "$\\displaystyle\n",
    "3z_{iss'} \\leq \\sum_{j \\in C \\cup \\{s\\}} \\sum_{t \\in T} x_{jwst} + \\sum_{j \\in C \\cup \\{s\\}} \\sum_{t \\in T} x_{jws't} + y_{is'}, \\quad i \\in C, s \\in S, s' \\in S, s \\neq s',$ \n",
    "\n",
    "(Whether a consumer is visited by a truck after the truck has visited the cross-dock ($y_{is}$))\n",
    "\n",
    "$\\displaystyle\n",
    "\\sum_{j \\in C\\cup \\{s\\}} \\sum_{t \\in T} t\\ x_{jist} - \\sum_{j \\in C \\cup \\{s\\} \\cup \\{w\\}} \\sum_{t \\in T} t\\ x_{jwst} \\geq |T| (y_{is}-1), \\quad i \\in N, s \\in S,$\n",
    "\n",
    "(Ensuring that if a consumer $i$ is not visited by the truck from $s$ than $y_{is}$ = 0)\n",
    "\n",
    "$\\displaystyle\n",
    "y_{is} \\leq \\sum_{j \\in C \\cup \\{s\\}} \\sum_{t \\in T} x_{jist}, \\quad i \\in C, s \\in S.$\n",
    "\n",
    "We need some data to play with. We will be using the problem described in file [data1.csv](data/data1.csv). The following figure shows the positions of suppliers (nodes 1 and 2, in red), consumers (nodes 3 to 12, in green) and the cross-dock (node 13, in blue). \n",
    "\n",
    "<img src=\"images/inputData.png\" alt=\"Our problem\">\n",
    "\n",
    "Since we will be using JuMP/Julia to implement the model and GLPK as a MIP solver, we need to load the correspondent packages. Also, we are including some functions that will help us manipulate the data so we can focus on the matheuristics related aspects."
   ]
  },
  {
   "cell_type": "code",
   "execution_count": 1,
   "metadata": {},
   "outputs": [],
   "source": [
    "using JuMP\n",
    "using GLPKMathProgInterface\n",
    "include(\"src/readData.jl\"); # Import function readData, used for reading input parameters, and others"
   ]
  },
  {
   "cell_type": "markdown",
   "metadata": {},
   "source": [
    "In the following, we have a function that implements the model as presented previously. It returns the model and the $x_{ijst}$, $y_{is}$, $z_{iss'}$ variables."
   ]
  },
  {
   "cell_type": "code",
   "execution_count": 2,
   "metadata": {},
   "outputs": [
    {
     "data": {
      "text/plain": [
       "defineModel (generic function with 1 method)"
      ]
     },
     "execution_count": 2,
     "metadata": {},
     "output_type": "execute_result"
    }
   ],
   "source": [
    "function defineModel(m, nodes, suppliers, consumers, demand, edgeExists)\n",
    "\n",
    "    T = 1:length(nodes)  # Possible legs\n",
    "\n",
    "    @variable(m, x[i=nodes, j=nodes, s=suppliers, t=T; edgeExists[s, i, j]], Bin)\n",
    "    @variable(m, z[i=consumers, s=suppliers, sBar=suppliers; s != sBar], Bin)\n",
    "    @variable(m, y[i=consumers, s=suppliers], Bin)\n",
    "\n",
    "    @objective(m, Min, sum(cost[i, j]*x[i, j, s, t]\n",
    "        for i in nodes, j in nodes, s in suppliers, t in T if edgeExists[s, i, j]))\n",
    "\n",
    "    # We only leave suppliers at the first leg:\n",
    "    @constraint(m, [j in nodes,\n",
    "                    s in suppliers,\n",
    "                    t in T; (t != 1) && (edgeExists[s, j, s])],\n",
    "                    x[s, j, s, t] == 0)\n",
    "\n",
    "    # We cannot leave any other node but suppliers in the first leg:\n",
    "    @constraint(m, [i in nodes,\n",
    "                    j in nodes,\n",
    "                    s in suppliers; (i in suppliers) == false && (edgeExists[s, i, j])],\n",
    "                    x[i, j, s, 1] == 0)\n",
    "\n",
    "    # Flow balance constraints:\n",
    "    @constraint(m, [s in suppliers, j in nodes, t in T[1:end-1]; j != s],\n",
    "    sum(x[i, j, s, t] for i in nodes if edgeExists[s, i, j]) ==\n",
    "    sum(x[j, i, s, t+1] for i in nodes if edgeExists[s, j, i]))\n",
    "\n",
    "    # We only visit each node at most once with each supplier\n",
    "    for s in suppliers, j in nodes\n",
    "        @constraint(m, sum(x[i, j, s, t] for i in nodes, t in T if edgeExists[s, i, j]) <= 1)\n",
    "    end\n",
    "\n",
    "    # Demand constraints:\n",
    "    @constraint(m, [i in consumers, s in suppliers],\n",
    "        sum(x[j, i, s, t] for j in nodes, t in T if edgeExists[s, i, j]) >=\n",
    "        demand[i, s] - sum(z[i, s, sBar] for sBar in suppliers if s != sBar))\n",
    "\n",
    "    for i in consumers, s in suppliers\n",
    "        @expression(m, sVisitsCD, sum(x[j, w, s, t] for j in nodes, t in T if edgeExists[s, j, w]))\n",
    "\n",
    "        for sBar in suppliers\n",
    "            if s != sBar\n",
    "                @expression(m, sBarVisitsCD, \n",
    "                            sum(x[j, w, sBar, t] for j in nodes, t in T if edgeExists[sBar, j, w]))\n",
    "                @constraint(m, 3*z[i, s, sBar] <= sVisitsCD + sBarVisitsCD + y[i, sBar])\n",
    "            end\n",
    "        end\n",
    "    end\n",
    "\n",
    "    @constraint(m, [i in consumers, s in suppliers],\n",
    "        sum(t*x[j, i, s, t] for j in nodes, t in T if edgeExists[s, j, i]) -\n",
    "        sum(t*x[j, w, s, t] for j in nodes, t in T if edgeExists[s, j, w]) >= length(T)*(y[i, s]-1))\n",
    "\n",
    "    @constraint(m, [i in consumers, s in suppliers],\n",
    "        y[i, s] <= sum(x[j, i, s, t] for j in nodes, t in T if edgeExists[s, j, i]))\n",
    "\n",
    "    m, x, y, z\n",
    "end"
   ]
  },
  {
   "cell_type": "markdown",
   "metadata": {},
   "source": [
    "Now, we are prepared to use GLPK/JuMP to solve our model."
   ]
  },
  {
   "cell_type": "code",
   "execution_count": 3,
   "metadata": {},
   "outputs": [
    {
     "name": "stdout",
     "output_type": "stream",
     "text": [
      "      0: obj =   0.000000000e+00 inf =   1.300e+01 (13)\n",
      "    233: obj =   5.848602719e+02 inf =   1.662e-15 (0)\n",
      "*   500: obj =   2.403272906e+02 inf =   2.721e-16 (759) 1\n",
      "*   772: obj =   1.744989748e+02 inf =   0.000e+00 (0) 1\n",
      "+   772: mip =     not found yet >=              -inf        (1; 0)\n",
      "+  5239: >>>>>   4.896222297e+02 >=   2.427393813e+02  50.4% (162; 4)\n",
      "+ 11853: >>>>>   4.729352578e+02 >=   2.603219018e+02  45.0% (255; 145)\n",
      "+ 17674: mip =   4.729352578e+02 >=   2.690435296e+02  43.1% (429; 183)\n",
      "+ 24593: mip =   4.729352578e+02 >=   2.773211854e+02  41.4% (616; 200)\n",
      "+ 27499: mip =   4.729352578e+02 >=   2.809593647e+02  40.6% (685; 208)\n"
     ]
    },
    {
     "data": {
      "text/plain": [
       ":UserLimit"
      ]
     },
     "execution_count": 3,
     "metadata": {},
     "output_type": "execute_result"
    }
   ],
   "source": [
    "filename = \"data/data1.csv\"  # The file with the input data\n",
    "\n",
    "# We read the input data with the readData function\n",
    "suppliers, consumers, warehouse, nodes, posX, posY, cost, demand = readData(filename)\n",
    "w = warehouse[1]\n",
    "\n",
    "# We need some preprocessing of the input parameters.\n",
    "# After preprocessing we get the edgeExists map, \n",
    "# which tell us if a particular supplier, s, can traverse edge (i, j)\n",
    "nodes, consumers, suppliers, edgeExists = preprocessing(nodes, suppliers, consumers, demand)\n",
    "\n",
    "# Time Limit (tm_lim) is in mili-seconds:\n",
    "m = Model(solver=GLPKSolverMIP(tm_lim=20000, msg_lev=2))\n",
    "\n",
    "m, x, y, z = defineModel(m, nodes, suppliers, consumers, demand, edgeExists)\n",
    "\n",
    "# Suppress warnings because we like to live dangerously:\n",
    "solve(m, suppress_warnings=true)"
   ]
  },
  {
   "cell_type": "markdown",
   "metadata": {},
   "source": [
    "The *solve* method give us a status for the optimisation procedure. If we want the solution itself, we can use the *printSolution* method from the *readData.jl* file."
   ]
  },
  {
   "cell_type": "code",
   "execution_count": 5,
   "metadata": {
    "scrolled": true
   },
   "outputs": [
    {
     "name": "stdout",
     "output_type": "stream",
     "text": [
      "579.1339215717855\n",
      "1 1 13\n",
      "1 13 3\n",
      "1 3 6\n",
      "1 6 7\n",
      "1 7 1\n",
      "2 2 13\n",
      "2 13 10\n",
      "2 10 8\n",
      "2 8 12\n",
      "2 12 11\n",
      "2 11 9\n",
      "2 9 4\n",
      "2 4 5\n",
      "2 5 2\n",
      "\n"
     ]
    }
   ],
   "source": [
    "printSolution(m, suppliers, nodes, edgeExists)"
   ]
  },
  {
   "cell_type": "markdown",
   "metadata": {},
   "source": [
    "The solution looks like the following (note that you might get a different solution when running in a different hardware. In that case, the figure will not reflect the solution).\n",
    "\n",
    "<img src=\"images/modelSolution.png\">"
   ]
  },
  {
   "cell_type": "markdown",
   "metadata": {},
   "source": [
    "# [Local branching](https://link.springer.com/article/10.1007/s10107-003-0395-5)\n",
    "\n",
    "Now, let us explore some ideas from *Local Branching* to solve our problem. First, we need an initial feasible solution, which we will get by trying to solve the model for a limited time. Then, we will add a constraint of the following type and reoptimise.\n",
    "\n",
    "$$\\sum_{\\bar{x} \\in \\mathcal{X}^-} \\bar{x} + \\sum_{\\bar{x} \\in \\mathcal{X}^+} (1 - \\bar{x}) \\leq k,$$\n",
    "\n",
    "in which $\\mathcal{X}^ -$ ($\\mathcal{X}^+$) is the set of all variables in the problem that have a value of zero (one) in the first optimisation and $k$ is the \"radius\" of the neighbourhood.\n",
    "\n",
    "For this, add the constraint described above after the first call of the *solve* method. Start with $k=10$ and check how different values affect the solution."
   ]
  },
  {
   "cell_type": "code",
   "execution_count": 8,
   "metadata": {},
   "outputs": [
    {
     "name": "stdout",
     "output_type": "stream",
     "text": [
      "Initial solution 579.1339215717855\n",
      "\n",
      "Solution after reoptimisation!: 548.7311820083075\n"
     ]
    }
   ],
   "source": [
    "m = Model(solver=GLPKSolverMIP(tm_lim=10000, msg_lev=0))\n",
    "\n",
    "m, x, y, z = defineModel(m, nodes, suppliers, consumers, demand, edgeExists)\n",
    "\n",
    "# This is the first optimisation:\n",
    "solve(m, suppress_warnings=true)\n",
    "\n",
    "println(\"Initial solution $(getobjectivevalue(m))\") \n",
    "\n",
    "# We can use the separateZerosOnes function (readData.jl)\n",
    "varZeros, varOnes = separateZerosOnes(m)\n",
    "\n",
    "# Add the constraint here. You can iterate over varZeros (or varOnes)\n",
    "# using \"for var in varZeros\". The general syntax for adding a constraint is:\n",
    "# @constraint(model, expression <= k)\n",
    "\n",
    "solve(m, suppress_warnings=true)\n",
    "\n",
    "obj = getobjectivevalue(m)\n",
    "\n",
    "if isnan(obj)\n",
    "    println(\"\\nCould not find a feasible solution within the time limit.\") \n",
    "else\n",
    "    println(\"\\nSolution after reoptimisation: $obj\")    \n",
    "end"
   ]
  },
  {
   "cell_type": "markdown",
   "metadata": {},
   "source": [
    "For some values of $k$, the solver may not be able to find any feasible solution within the time limit. For handling such cases, it is possible to try a reoptimisation with smaller value of $k$ in the hope that the resulting problem is easier to solve. Let us add this rule for updating $k$."
   ]
  },
  {
   "cell_type": "code",
   "execution_count": 9,
   "metadata": {},
   "outputs": [
    {
     "name": "stdout",
     "output_type": "stream",
     "text": [
      "(obj, initialK) = (NaN, 25)\n",
      "(obj, initialK) = (NaN, 12.5)\n",
      "(obj, initialK) = (740.3881660495049, 6.25)\n"
     ]
    }
   ],
   "source": [
    "m = Model(solver=GLPKSolverMIP(tm_lim=10000, msg_lev=0))\n",
    "\n",
    "m, x, y, z = defineModel(m, nodes, suppliers, consumers, demand, edgeExists)\n",
    "\n",
    "# This is the first optimisation:\n",
    "solve(m, suppress_warnings=true)\n",
    "\n",
    "# Separating zeros and ones (readData.jl)\n",
    "varZeros, varOnes = separateZerosOnes(m)\n",
    "\n",
    "initialK = 25\n",
    "\n",
    "@constraint(m, localBranchConstr,\n",
    "        sum(var for var in varZeros) + sum(1 - var for var in varOnes) <= initialK)\n",
    "\n",
    "solve(m, suppress_warnings=true)\n",
    "obj = getobjectivevalue(m)\n",
    "\n",
    "@show obj, initialK\n",
    "\n",
    "iter = 1\n",
    "\n",
    "# We can use isnan method to check if a solution is available.\n",
    "while isnan(obj) && iter < 10\n",
    "    # You may add the rule for updating the initialK variable here:\n",
    "    \n",
    "    # Changing the right-hand side of the constraint:\n",
    "    JuMP.setRHS(localBranchConstr, initialK) \n",
    "    \n",
    "    solve(m, suppress_warnings=true)\n",
    "    \n",
    "    obj = getobjectivevalue(m)\n",
    "    @show obj, initialK\n",
    "    \n",
    "    iter += 1\n",
    "end"
   ]
  },
  {
   "cell_type": "markdown",
   "metadata": {},
   "source": [
    "Note that if the solver is able to find an optimal solution for a particular neighbourhood, it is possible to increase $k$ and reoptimise, hoping to find an even better solution for the problem. \n",
    "\n",
    "Besides changing the neighbourhood radius, another way to explore Local Branching is by changing the centre of the neighbourhood, i.e., the solution that we are using as a pivot for defining the neighbourhood. One implementation for this would be the following."
   ]
  },
  {
   "cell_type": "code",
   "execution_count": 10,
   "metadata": {},
   "outputs": [
    {
     "name": "stdout",
     "output_type": "stream",
     "text": [
      "(MathProgBase.numlinconstr(m), MathProgBase.numlinconstr(mOriginal)) = (900, 900)\n",
      "getobjectivevalue(m) = 579.1339215717855\n",
      "(MathProgBase.numlinconstr(m), MathProgBase.numlinconstr(mOriginal)) = (901, 900)\n",
      "getobjectivevalue(m) = 581.0173438221805\n",
      "(MathProgBase.numlinconstr(m), MathProgBase.numlinconstr(mOriginal)) = (901, 900)\n",
      "getobjectivevalue(m) = 550.6146042587021\n"
     ]
    }
   ],
   "source": [
    "mOriginal = Model(solver=GLPKSolverMIP(tm_lim=10000, msg_lev=0))\n",
    "mOriginal, x, y, z = defineModel(mOriginal, nodes, suppliers, consumers, demand, edgeExists)\n",
    "\n",
    "# Now we are not modifying original model, i.e., \n",
    "# the model without the local branching constraint\n",
    "m = copy(mOriginal)\n",
    "\n",
    "# Printing the number of constraints for each model:\n",
    "@show MathProgBase.numlinconstr(m), MathProgBase.numlinconstr(mOriginal)\n",
    "\n",
    "# Getting the initial feasible solution:\n",
    "solve(m, suppress_warnings=true)\n",
    "@show getobjectivevalue(m)\n",
    "println()  # Just adding a new line.\n",
    "\n",
    "# This loops defines the number of iterations:\n",
    "for i in 1:2\n",
    "    \n",
    "    # Saving the variables that have a value of one (readData.jl):\n",
    "    xOnes, yOnes, zOnes = getOnes(m)\n",
    "\n",
    "    # Be aware that copying the model is not efficient:\n",
    "    m = copy(mOriginal)\n",
    "\n",
    "    # Separating zeros and ones:\n",
    "    varZeros, varOnes = separateZerosOnes(m, xOnes, yOnes, zOnes)\n",
    "    \n",
    "    # Adding the local branching constraint:\n",
    "    @constraint(m, localBranchConstr,\n",
    "            sum(var for var in varZeros) + sum(1 - var for var in varOnes) <= 10)\n",
    "\n",
    "    # Printing the number of constraints for each model:\n",
    "    @show MathProgBase.numlinconstr(m), MathProgBase.numlinconstr(mOriginal)\n",
    "    \n",
    "    # Solving with the local branching constraint:\n",
    "    solve(m, suppress_warnings=true)\n",
    "    \n",
    "    @show getobjectivevalue(m)\n",
    "    println()  # Just to adding a new line.\n",
    "end"
   ]
  },
  {
   "cell_type": "markdown",
   "metadata": {},
   "source": [
    "Note that, without providing the previous solution to a current step, there is no guarantee that the current solution is not worse than the previous one. Also, you can combine the ideas of changing the neighbourhood radius and centre to build more sophisticated searching strategies."
   ]
  },
  {
   "cell_type": "markdown",
   "metadata": {},
   "source": [
    "# [Proximity search](https://link.springer.com/article/10.1007/s10732-014-9266-x)\n",
    "\n",
    "The basic algorithm of the Proximity Search begins with finding an initial feasible solution ($\\tilde{x}$). Here, we will use the model itself for finding this initial solution, but any ad-hoc heuristics would be enough. Then, we need to define the cutoff tolerance $\\theta$, this parameter will be used in a constraint to be added to the model. The constraint looks like the following (assuming a minimisation problem).\n",
    "\n",
    "$$f(x) \\leq f(\\tilde{x}) - \\theta.$$\n",
    "\n",
    "Before reoptimising the problem, we change its objective function to:\n",
    "\n",
    "$$Min\\ \\sum_{\\bar{x} \\in \\mathcal{X}^-} \\bar{x} + \\sum_{\\bar{x} \\in \\mathcal{X}^+} (1 - \\bar{x}),$$\n",
    "\n",
    "in which $\\mathcal{X}^ -$ ($\\mathcal{X}^+$) is the set of all variables which have a value of zero (one) in the previous optimisation procedure. Note that this expression is the left-hand side of the constraint used in Local Branching.\n",
    "\n",
    "Let us implement an iteration of the Proximity Search for our problem, using $\\theta = 1$."
   ]
  },
  {
   "cell_type": "code",
   "execution_count": 12,
   "metadata": {},
   "outputs": [
    {
     "name": "stdout",
     "output_type": "stream",
     "text": [
      "getvalue(objExpr) = 579.1339215717857\n",
      "getvalue(objExpr) = 577.4900375773768\n"
     ]
    }
   ],
   "source": [
    "m = Model(solver=GLPKSolverMIP(tm_lim=10000, msg_lev=0))\n",
    "\n",
    "m, x, y, z = defineModel(m, nodes, suppliers, consumers, demand, edgeExists)\n",
    "\n",
    "# Initial optimisation:\n",
    "solve(m, suppress_warnings=true)\n",
    "\n",
    "# Since we will be changing the objective function for the solver,\n",
    "# we need to keep track of the original objective function:\n",
    "T = 1:length(nodes)\n",
    "@expression(m, objExpr, \n",
    "    sum(cost[i, j]*x[i, j, s, t] for i in nodes, \n",
    "        j in nodes,\n",
    "        s in suppliers,\n",
    "        t in T if edgeExists[s, i, j]))\n",
    "                \n",
    "@show getvalue(objExpr)\n",
    "                \n",
    "varZeros, varOnes = separateZerosOnes(m)\n",
    "\n",
    "# The objective function can be redefined using\n",
    "# @objective(m, Min, expression):\n",
    "                \n",
    "solve(m, suppress_warnings=true)\n",
    "\n",
    "@show getvalue(objExpr);"
   ]
  },
  {
   "cell_type": "markdown",
   "metadata": {},
   "source": [
    "Once we find a feasible solution, we can look for better ones just repeating the same procedure. If we do not change cutoff parameter $\\theta$, at every iteration, each added constraint dominates the previous one, so there is no need to handle the elimination of constraints from the model. "
   ]
  },
  {
   "cell_type": "code",
   "execution_count": 4,
   "metadata": {},
   "outputs": [
    {
     "name": "stdout",
     "output_type": "stream",
     "text": [
      "getobjectivevalue(m) = 579.1339215717855\n",
      "(i, getvalue(objExpr)) = (1, 577.4900375773768)\n",
      "(i, getvalue(objExpr)) = (2, 554.6787904849061)\n",
      "(i, getvalue(objExpr)) = (3, 547.7768699326865)\n",
      "(i, getvalue(objExpr)) = (4, 526.7302762448531)\n",
      "(i, getvalue(objExpr)) = (5, 520.9052411226269)\n",
      "(i, getvalue(objExpr)) = (6, 519.7419488161277)\n",
      "(i, getvalue(objExpr)) = (7, 513.952225256473)\n",
      "18.0\n",
      "1 1 13\n",
      "1 13 6\n",
      "1 6 7\n",
      "1 7 1\n",
      "2 2 13\n",
      "2 13 3\n",
      "2 3 5\n",
      "2 5 4\n",
      "2 4 9\n",
      "2 9 11\n",
      "2 11 8\n",
      "2 8 12\n",
      "2 12 10\n",
      "2 10 2\n",
      "\n"
     ]
    }
   ],
   "source": [
    "m = Model(solver=GLPKSolverMIP(tm_lim=10000, msg_lev=0))\n",
    "\n",
    "m, x, y, z = defineModel(m, nodes, suppliers, consumers, demand, edgeExists)\n",
    "\n",
    "# Initial optimisation:\n",
    "solve(m, suppress_warnings=true)\n",
    "\n",
    "@show getobjectivevalue(m)\n",
    "\n",
    "# We want to keep track of the original objective function:\n",
    "T = 1:length(nodes)\n",
    "@expression(m, objExpr, \n",
    "    sum(cost[i, j]*x[i, j, s, t] for i in nodes, j in nodes, s in suppliers, t in T if edgeExists[s, i, j]))\n",
    "\n",
    "# Loop defining the iterations\n",
    "for i in 1:7\n",
    "    \n",
    "    # Separating variables:\n",
    "    varZeros, varOnes = separateZerosOnes(m)\n",
    "\n",
    "    # Redefining the objective function\n",
    "    @objective(m, Min, sum(var for var in varZeros) + sum(1 - var for var in varOnes))\n",
    "   \n",
    "    # Adding the Proximity Search constraint:\n",
    "    @constraint(m, objExpr <= getvalue(objExpr) - 1)\n",
    "\n",
    "    solve(m, suppress_warnings=true)\n",
    "\n",
    "    # If we cannnot find a feasible solution, we stop!\n",
    "    if isnan(getobjectivevalue(m))\n",
    "        break\n",
    "    end\n",
    "\n",
    "    # Getting value of the original objective function:\n",
    "    @show i, getvalue(objExpr)\n",
    "end  \n",
    "\n",
    "# Remember that the objective function of the model is not the original one.\n",
    "printSolution(m, suppliers, nodes, edgeExists)"
   ]
  },
  {
   "cell_type": "markdown",
   "metadata": {},
   "source": [
    "Let us see what this solution looks like\n",
    "\n",
    "<img src=\"images/proximitySearchSolution.png\">\n",
    "\n",
    "So far, we are using $\\theta = 1$. Try other values of $\\theta$ and see how they affect the evolution of the objective function. Then, define rules for modyfing $\\theta$ dynamically.\n",
    "\n",
    "This Notebook is just an example of exploring some ideas from Local Branching and Proximity Search. For detailed information on both methods, including a computational performance analysis, the reader is referred to the original papers:\n",
    "\n",
    "- Fischetti, Matteo, and Andrea Lodi. \"Local branching.\" Mathematical programming 98.1-3 (2003): 23-47.\n",
    "- Fischetti, Matteo, and Michele Monaci. \"Proximity search for 0-1 mixed-integer convex programming.\" Journal of Heuristics 20.6 (2014): 709-731.\n",
    "\n",
    "For more information on JuMP/Julia check the [official documentation](http://jump.readthedocs.io/en/latest/)."
   ]
  }
 ],
 "metadata": {
  "kernelspec": {
   "display_name": "Julia 0.5.2",
   "language": "julia",
   "name": "julia-0.5"
  },
  "language_info": {
   "file_extension": ".jl",
   "mimetype": "application/julia",
   "name": "julia",
   "version": "0.5.2"
  }
 },
 "nbformat": 4,
 "nbformat_minor": 2
}
